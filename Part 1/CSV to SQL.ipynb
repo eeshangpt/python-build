{
 "cells": [
  {
   "cell_type": "code",
   "execution_count": 1,
   "metadata": {},
   "outputs": [],
   "source": [
    "import csv\n",
    "import MySQLdb"
   ]
  },
  {
   "cell_type": "code",
   "execution_count": 2,
   "metadata": {},
   "outputs": [],
   "source": [
    "mydb = MySQLdb.connect(host = 'localhost', user = 'root', \n",
    "                       passwd = 'yesican', db = 'pythonBuild')\n",
    "\n",
    "cursor = mydb.cursor()"
   ]
  },
  {
   "cell_type": "code",
   "execution_count": 3,
   "metadata": {},
   "outputs": [
    {
     "name": "stderr",
     "output_type": "stream",
     "text": [
      "/usr/local/lib/python3.5/dist-packages/ipykernel_launcher.py:5: Warning: (1265, \"Data truncated for column 'Turnover' at row 1\")\n",
      "  \"\"\"\n"
     ]
    }
   ],
   "source": [
    "with open('../datasets/nifty_it_index.csv') as file:\n",
    "    csv_data = csv.reader(file)\n",
    "    for row in csv_data:\n",
    "        if not csv_data.line_num == 1:\n",
    "            cursor.execute(\"\"\"INSERT INTO nifty_it_index\\\n",
    "            (Date, Open, High, Low, Close, Volume, Turnover) values\\\n",
    "            (%s, %s, %s, %s, %s, %s, %s)\"\"\", row)"
   ]
  },
  {
   "cell_type": "code",
   "execution_count": 4,
   "metadata": {},
   "outputs": [
    {
     "name": "stderr",
     "output_type": "stream",
     "text": [
      "/usr/local/lib/python3.5/dist-packages/ipykernel_launcher.py:5: Warning: (1265, \"Data truncated for column 'Deliverable' at row 1\")\n",
      "  \"\"\"\n"
     ]
    }
   ],
   "source": [
    "with open('../datasets/infy_stock.csv') as file:\n",
    "    csv_data = csv.reader(file)\n",
    "    for row in csv_data:\n",
    "        if not csv_data.line_num == 1:\n",
    "            cursor.execute(\"\"\"INSERT INTO infy_stock values\\\n",
    "            (%s, %s, %s, %s, %s, %s, %s, %s, %s, %s, %s, %s, %s, %s, %s)\"\"\",row)"
   ]
  },
  {
   "cell_type": "code",
   "execution_count": 5,
   "metadata": {},
   "outputs": [],
   "source": [
    "mydb.commit()"
   ]
  }
 ],
 "metadata": {
  "kernelspec": {
   "display_name": "Python 3",
   "language": "python",
   "name": "python3"
  },
  "language_info": {
   "codemirror_mode": {
    "name": "ipython",
    "version": 3
   },
   "file_extension": ".py",
   "mimetype": "text/x-python",
   "name": "python",
   "nbconvert_exporter": "python",
   "pygments_lexer": "ipython3",
   "version": "3.5.2"
  }
 },
 "nbformat": 4,
 "nbformat_minor": 2
}
