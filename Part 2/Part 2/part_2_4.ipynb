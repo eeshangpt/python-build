{
 "cells": [
  {
   "cell_type": "code",
   "execution_count": 1,
   "metadata": {},
   "outputs": [],
   "source": [
    "import numpy as np\n",
    "import pandas as pd\n",
    "import pickle"
   ]
  },
  {
   "cell_type": "code",
   "execution_count": 2,
   "metadata": {},
   "outputs": [],
   "source": [
    "with open('nifty_it_index', 'rb') as f:\n",
    "    nifty_it_index = pickle.load(f)"
   ]
  },
  {
   "cell_type": "code",
   "execution_count": 3,
   "metadata": {},
   "outputs": [],
   "source": [
    "with open('infy_stock', 'rb') as f:\n",
    "    infy_stock = pickle.load(f)"
   ]
  },
  {
   "cell_type": "code",
   "execution_count": 4,
   "metadata": {},
   "outputs": [
    {
     "name": "stdout",
     "output_type": "stream",
     "text": [
      "<class 'pandas.core.frame.DataFrame'>\n",
      "Index: 248 entries, 2015-01-01 to 2015-12-31\n",
      "Data columns (total 6 columns):\n",
      "Open        248 non-null float64\n",
      "High        248 non-null float64\n",
      "Low         248 non-null float64\n",
      "Close       248 non-null float64\n",
      "Volume      248 non-null int64\n",
      "Turnover    248 non-null float64\n",
      "dtypes: float64(5), int64(1)\n",
      "memory usage: 13.6+ KB\n"
     ]
    }
   ],
   "source": [
    "nifty_it_index = nifty_it_index.drop(['week_no', 'week_4'], axis = 1)\n",
    "nifty_it_index.info()"
   ]
  },
  {
   "cell_type": "code",
   "execution_count": 9,
   "metadata": {
    "scrolled": false
   },
   "outputs": [],
   "source": [
    "volume_shock_index = [0] * len(nifty_it_index.Volume)\n",
    "for i in range(len(nifty_it_index.Volume)):\n",
    "    if (i) < len(nifty_it_index.Volume) and (abs(nifty_it_index.Volume.iloc[i] - nifty_it_index.Volume.iloc[i - 1]) \n",
    "                                             / nifty_it_index.Volume.iloc[i-1]) > (0.1):\n",
    "        volume_shock_index[i] = 1\n",
    "volume_shock_index = pd.Series(volume_shock_index, index= nifty_it_index.index)"
   ]
  },
  {
   "cell_type": "code",
   "execution_count": 10,
   "metadata": {},
   "outputs": [],
   "source": [
    "volume_shock_infy = [0] * len(infy_stock.Volume)\n",
    "for i in range(len(infy_stock.Volume)):\n",
    "    if (i) < len(infy_stock.Volume) and (abs(infy_stock.Volume.iloc[i] - infy_stock.Volume.iloc[i - 1]) \n",
    "                                             / infy_stock.Volume.iloc[i-1]) > (0.1):\n",
    "        volume_shock_infy[i] = 1\n",
    "volume_shock_infy = pd.Series(volume_shock_infy, index= infy_stock.index)"
   ]
  },
  {
   "cell_type": "code",
   "execution_count": 11,
   "metadata": {},
   "outputs": [],
   "source": [
    "price_shock_index = [0]*len(nifty_it_index.Close)\n",
    "for i in range(len(nifty_it_index.Close)):\n",
    "    if (i) < len(nifty_it_index.Close) and (abs(nifty_it_index.Close.iloc[i] - nifty_it_index.Close.iloc[i - 1]) \n",
    "                                            / nifty_it_index.Close.iloc[i-1]) > (0.02):\n",
    "        price_shock_index[i-1] = 1\n",
    "price_shock_index = pd.Series(price_shock_index, index=nifty_it_index.index)"
   ]
  },
  {
   "cell_type": "code",
   "execution_count": 12,
   "metadata": {},
   "outputs": [],
   "source": [
    "price_shock_infy = [0]*len(infy_stock.Close)\n",
    "for i in range(len(infy_stock.Close)):\n",
    "    if (i) < len(infy_stock.Close) and (abs(infy_stock.Close.iloc[i] - infy_stock.Close.iloc[i - 1]) \n",
    "                                            / infy_stock.Close.iloc[i-1]) > (0.02):\n",
    "        price_shock_infy[i-1] = 1\n",
    "price_shock_infy = pd.Series(price_shock_infy, index=infy_stock.index)"
   ]
  },
  {
   "cell_type": "code",
   "execution_count": 13,
   "metadata": {},
   "outputs": [],
   "source": [
    "nifty_it_index['Volume_shock'] = volume_shock_index"
   ]
  },
  {
   "cell_type": "code",
   "execution_count": 14,
   "metadata": {},
   "outputs": [],
   "source": [
    "nifty_it_index['Price_shock'] = price_shock_index"
   ]
  },
  {
   "cell_type": "code",
   "execution_count": 15,
   "metadata": {},
   "outputs": [],
   "source": [
    "infy_stock['Volume_shock'] = volume_shock_infy"
   ]
  },
  {
   "cell_type": "code",
   "execution_count": 16,
   "metadata": {},
   "outputs": [],
   "source": [
    "infy_stock['Price_shock'] = price_shock_infy"
   ]
  },
  {
   "cell_type": "code",
   "execution_count": 17,
   "metadata": {},
   "outputs": [
    {
     "name": "stdout",
     "output_type": "stream",
     "text": [
      "<class 'pandas.core.frame.DataFrame'>\n",
      "Index: 248 entries, 2015-01-01 to 2015-12-31\n",
      "Data columns (total 16 columns):\n",
      "Symbol                248 non-null object\n",
      "Series                248 non-null object\n",
      "Perv_Close            248 non-null float64\n",
      "Open                  248 non-null float64\n",
      "High                  248 non-null float64\n",
      "Low                   248 non-null float64\n",
      "Last                  248 non-null float64\n",
      "Close                 248 non-null float64\n",
      "VWAP                  248 non-null float64\n",
      "Volume                248 non-null int64\n",
      "Turnover              248 non-null float64\n",
      "Trades                248 non-null int64\n",
      "Deliverable_Volume    248 non-null int64\n",
      "Deliverable           248 non-null float64\n",
      "Volume_shock          248 non-null int64\n",
      "Price_shock           248 non-null int64\n",
      "dtypes: float64(9), int64(5), object(2)\n",
      "memory usage: 42.9+ KB\n"
     ]
    }
   ],
   "source": [
    "infy_stock.info()"
   ]
  },
  {
   "cell_type": "code",
   "execution_count": null,
   "metadata": {},
   "outputs": [],
   "source": []
  }
 ],
 "metadata": {
  "kernelspec": {
   "display_name": "Python 3",
   "language": "python",
   "name": "python3"
  },
  "language_info": {
   "codemirror_mode": {
    "name": "ipython",
    "version": 3
   },
   "file_extension": ".py",
   "mimetype": "text/x-python",
   "name": "python",
   "nbconvert_exporter": "python",
   "pygments_lexer": "ipython3",
   "version": "3.5.2"
  }
 },
 "nbformat": 4,
 "nbformat_minor": 2
}
