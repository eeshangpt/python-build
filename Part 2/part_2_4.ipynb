{
 "cells": [
  {
   "cell_type": "code",
   "execution_count": 1,
   "metadata": {},
   "outputs": [],
   "source": [
    "import numpy as np\n",
    "import pandas as pd\n",
    "import pickle"
   ]
  },
  {
   "cell_type": "code",
   "execution_count": 2,
   "metadata": {},
   "outputs": [],
   "source": [
    "with open('nifty_it_index', 'rb') as f:\n",
    "    nifty_it_index = pickle.load(f)"
   ]
  },
  {
   "cell_type": "code",
   "execution_count": 3,
   "metadata": {},
   "outputs": [],
   "source": [
    "with open('infy_stock', 'rb') as f:\n",
    "    infy_stock = pickle.load(f)"
   ]
  },
  {
   "cell_type": "code",
   "execution_count": 4,
   "metadata": {},
   "outputs": [
    {
     "name": "stdout",
     "output_type": "stream",
     "text": [
      "<class 'pandas.core.frame.DataFrame'>\n",
      "Index: 248 entries, 2015-01-01 to 2015-12-31\n",
      "Data columns (total 6 columns):\n",
      "Open        248 non-null float64\n",
      "High        248 non-null float64\n",
      "Low         248 non-null float64\n",
      "Close       248 non-null float64\n",
      "Volume      248 non-null int64\n",
      "Turnover    248 non-null float64\n",
      "dtypes: float64(5), int64(1)\n",
      "memory usage: 13.6+ KB\n"
     ]
    }
   ],
   "source": [
    "nifty_it_index = nifty_it_index.drop(['week_no', 'week_4'], axis = 1)\n",
    "nifty_it_index.info()"
   ]
  },
  {
   "cell_type": "code",
   "execution_count": 19,
   "metadata": {},
   "outputs": [
    {
     "data": {
      "text/plain": [
       "15"
      ]
     },
     "execution_count": 19,
     "metadata": {},
     "output_type": "execute_result"
    }
   ],
   "source": [
    "price_shock_index = [0]*len(nifty_it_index.Close)\n",
    "for i in range(len(nifty_it_index.Close)):\n",
    "    if (i) < len(nifty_it_index.Close) and (abs(nifty_it_index.Close.iloc[i] - nifty_it_index.Close.iloc[i - 1]) \n",
    "                                            / nifty_it_index.Close.iloc[i-1]) > (0.02):\n",
    "        price_shock_index[i-1] = 1\n",
    "sum(price_shock_index)"
   ]
  },
  {
   "cell_type": "code",
   "execution_count": 18,
   "metadata": {
    "scrolled": false
   },
   "outputs": [
    {
     "data": {
      "text/plain": [
       "188"
      ]
     },
     "execution_count": 18,
     "metadata": {},
     "output_type": "execute_result"
    }
   ],
   "source": [
    "volume_shock_index = [0] * len(nifty_it_index.Volume)\n",
    "for i in range(len(nifty_it_index.Volume)):\n",
    "    if (i) < len(nifty_it_index.Volume) and (abs(nifty_it_index.Volume.iloc[i] - nifty_it_index.Volume.iloc[i - 1]) \n",
    "                                             / nifty_it_index.Volume.iloc[i-1]) > (0.1):\n",
    "        volume_shock_index[i] = 1\n",
    "sum(volume_shock_index)            "
   ]
  }
 ],
 "metadata": {
  "kernelspec": {
   "display_name": "Python 3",
   "language": "python",
   "name": "python3"
  },
  "language_info": {
   "codemirror_mode": {
    "name": "ipython",
    "version": 3
   },
   "file_extension": ".py",
   "mimetype": "text/x-python",
   "name": "python",
   "nbconvert_exporter": "python",
   "pygments_lexer": "ipython3",
   "version": "3.5.2"
  }
 },
 "nbformat": 4,
 "nbformat_minor": 2
}
